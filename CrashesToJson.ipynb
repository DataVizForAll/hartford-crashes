{
 "cells": [
  {
   "cell_type": "markdown",
   "metadata": {},
   "source": [
    "# Crashes to JSON\n",
    "\n",
    "Use `Data Query Tool` to create a new export from UCONN Crashes (Town=Hartford, last five years): https://www.ctcrash.uconn.edu/QueryTool2.action\n",
    "\n",
    "This notebook combines data from two tables (0 and 2) into a small JSON file, which is an array of the following objects:\n",
    "```\n",
    "{\n",
    "    \"x\":41.73936,\n",
    "    \"y\":-72.66404,\n",
    "    \"d\":1593820800,\n",
    "    \"p\":0,\n",
    "    \"c\":0\n",
    "}\n",
    "```\n",
    "\n",
    "* `d` is timestamp that needs to be multiplied by `100,000` for a proper JS timestamp\n",
    "* `p` is a flag for pedestrians (1=true, 0=false)\n",
    "* `c` is a flag for cyclists\n",
    "* `id` is crash ID\n",
    "* `r` is route class (1-Interstate, 2-USRoute, 3-State, 4-Local)\n",
    "* `s` is crash severity (O for no injuries, A for any injury, and K for fatal crash)"
   ]
  },
  {
   "cell_type": "code",
   "execution_count": 1,
   "metadata": {},
   "outputs": [],
   "source": [
    "import pandas as pd"
   ]
  },
  {
   "cell_type": "code",
   "execution_count": 2,
   "metadata": {},
   "outputs": [],
   "source": [
    "export = '70836'"
   ]
  },
  {
   "cell_type": "markdown",
   "metadata": {},
   "source": [
    "### Import roles from table 2"
   ]
  },
  {
   "cell_type": "code",
   "execution_count": 3,
   "metadata": {},
   "outputs": [],
   "source": [
    "roles = pd.read_csv(\n",
    "    f'export_{export}/export_{export}_2.csv',\n",
    "    skiprows=1,\n",
    "    usecols=['CrashId', 'Person Type Text Format']\n",
    ")\n",
    "\n",
    "roles = roles.groupby(['CrashId'])['Person Type Text Format'].unique()"
   ]
  },
  {
   "cell_type": "markdown",
   "metadata": {},
   "source": [
    "### Import crashes from table 0"
   ]
  },
  {
   "cell_type": "code",
   "execution_count": 4,
   "metadata": {},
   "outputs": [],
   "source": [
    "crashes = pd.read_csv(\n",
    "    f'export_{export}/export_{export}_0.csv',\n",
    "    skiprows=1,\n",
    "    usecols=['CrashId', 'Latitude', 'Longitude', 'Date Of Crash', 'Time of Crash', 'Crash Severity', 'Route Class']\n",
    ")"
   ]
  },
  {
   "cell_type": "markdown",
   "metadata": {},
   "source": [
    "### Merge data and save to .json"
   ]
  },
  {
   "cell_type": "code",
   "execution_count": 15,
   "metadata": {},
   "outputs": [
    {
     "data": {
      "text/html": [
       "<div>\n",
       "<style scoped>\n",
       "    .dataframe tbody tr th:only-of-type {\n",
       "        vertical-align: middle;\n",
       "    }\n",
       "\n",
       "    .dataframe tbody tr th {\n",
       "        vertical-align: top;\n",
       "    }\n",
       "\n",
       "    .dataframe thead th {\n",
       "        text-align: right;\n",
       "    }\n",
       "</style>\n",
       "<table border=\"1\" class=\"dataframe\">\n",
       "  <thead>\n",
       "    <tr style=\"text-align: right;\">\n",
       "      <th></th>\n",
       "      <th>CrashId</th>\n",
       "      <th>Latitude</th>\n",
       "      <th>Longitude</th>\n",
       "      <th>Date Of Crash</th>\n",
       "      <th>Time of Crash</th>\n",
       "      <th>Crash Severity</th>\n",
       "      <th>Route Class</th>\n",
       "    </tr>\n",
       "  </thead>\n",
       "  <tbody>\n",
       "    <tr>\n",
       "      <th>0</th>\n",
       "      <td>26165</td>\n",
       "      <td>41.736755</td>\n",
       "      <td>-72.706648</td>\n",
       "      <td>2015-01-03</td>\n",
       "      <td>15:11:00</td>\n",
       "      <td>O</td>\n",
       "      <td>4</td>\n",
       "    </tr>\n",
       "    <tr>\n",
       "      <th>1</th>\n",
       "      <td>26166</td>\n",
       "      <td>41.784846</td>\n",
       "      <td>-72.708589</td>\n",
       "      <td>2015-01-04</td>\n",
       "      <td>14:27:00</td>\n",
       "      <td>O</td>\n",
       "      <td>4</td>\n",
       "    </tr>\n",
       "    <tr>\n",
       "      <th>2</th>\n",
       "      <td>26168</td>\n",
       "      <td>41.793270</td>\n",
       "      <td>-72.694880</td>\n",
       "      <td>2015-01-21</td>\n",
       "      <td>02:30:00</td>\n",
       "      <td>O</td>\n",
       "      <td>4</td>\n",
       "    </tr>\n",
       "    <tr>\n",
       "      <th>3</th>\n",
       "      <td>26172</td>\n",
       "      <td>41.752365</td>\n",
       "      <td>-72.685040</td>\n",
       "      <td>2015-01-02</td>\n",
       "      <td>08:23:00</td>\n",
       "      <td>O</td>\n",
       "      <td>4</td>\n",
       "    </tr>\n",
       "    <tr>\n",
       "      <th>4</th>\n",
       "      <td>26173</td>\n",
       "      <td>41.774810</td>\n",
       "      <td>-72.693833</td>\n",
       "      <td>2015-01-11</td>\n",
       "      <td>18:57:00</td>\n",
       "      <td>A</td>\n",
       "      <td>4</td>\n",
       "    </tr>\n",
       "  </tbody>\n",
       "</table>\n",
       "</div>"
      ],
      "text/plain": [
       "   CrashId   Latitude  Longitude Date Of Crash Time of Crash Crash Severity  \\\n",
       "0    26165  41.736755 -72.706648    2015-01-03      15:11:00              O   \n",
       "1    26166  41.784846 -72.708589    2015-01-04      14:27:00              O   \n",
       "2    26168  41.793270 -72.694880    2015-01-21      02:30:00              O   \n",
       "3    26172  41.752365 -72.685040    2015-01-02      08:23:00              O   \n",
       "4    26173  41.774810 -72.693833    2015-01-11      18:57:00              A   \n",
       "\n",
       "   Route Class  \n",
       "0            4  \n",
       "1            4  \n",
       "2            4  \n",
       "3            4  \n",
       "4            4  "
      ]
     },
     "execution_count": 15,
     "metadata": {},
     "output_type": "execute_result"
    }
   ],
   "source": [
    "crashes.head()"
   ]
  },
  {
   "cell_type": "code",
   "execution_count": 32,
   "metadata": {},
   "outputs": [],
   "source": [
    "crashes.columns = ['id', 'x', 'y', 'd', 't', 's', 'r']\n",
    "\n",
    "crashes.d = crashes.d.apply(lambda x: int(pd.to_datetime(x).timestamp() / 100))\n",
    "crashes.t = crashes.t.apply(lambda x: x[:-3])\n",
    "\n",
    "crashes['p'] = crashes.id.apply(lambda x: 1 if x in roles and 'Pedestrian' in roles[x] else 0)\n",
    "crashes['c'] = crashes.id.apply(lambda x: 1 if x in roles and 'Bicyclist' in roles[x] else 0)"
   ]
  },
  {
   "cell_type": "code",
   "execution_count": 33,
   "metadata": {},
   "outputs": [],
   "source": [
    "crashes.to_json('data/crashes.json', orient='records', double_precision=5)"
   ]
  },
  {
   "cell_type": "code",
   "execution_count": null,
   "metadata": {},
   "outputs": [],
   "source": []
  }
 ],
 "metadata": {
  "kernelspec": {
   "display_name": "Python 3",
   "language": "python",
   "name": "python3"
  },
  "language_info": {
   "codemirror_mode": {
    "name": "ipython",
    "version": 3
   },
   "file_extension": ".py",
   "mimetype": "text/x-python",
   "name": "python",
   "nbconvert_exporter": "python",
   "pygments_lexer": "ipython3",
   "version": "3.7.3"
  }
 },
 "nbformat": 4,
 "nbformat_minor": 4
}
