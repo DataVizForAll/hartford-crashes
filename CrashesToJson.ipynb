{
 "cells": [
  {
   "cell_type": "markdown",
   "metadata": {},
   "source": [
    "# Crashes to JSON\n",
    "\n",
    "Use `Data Query Tool` to create a new export from UCONN Crashes (Town=Hartford, last five years): https://www.ctcrash.uconn.edu/QueryTool2.action\n",
    "\n",
    "This notebook combines data from two tables (0 and 2) into a small JSON file, which is an array of the following objects:\n",
    "```\n",
    "{\n",
    "    \"x\":41.73936,\n",
    "    \"y\":-72.66404,\n",
    "    \"d\":1593820800,\n",
    "    \"p\":0,\n",
    "    \"c\":0\n",
    "}\n",
    "```\n",
    "\n",
    "* `d` is timestamp that needs to be multiplied by `100,000` for a proper JS timestamp\n",
    "* `p` is a flag for pedestrians (1=true, 0=false)\n",
    "* `c` is a flag for cyclists\n",
    "* `id` is crash ID\n",
    "* `r` is route class (1-Interstate, 2-USRoute, 3-State, 4-Local)\n",
    "* `s` is crash severity (O for no injuries, A for any injury, and K for fatal crash)"
   ]
  },
  {
   "cell_type": "code",
   "execution_count": 66,
   "metadata": {},
   "outputs": [],
   "source": [
    "import pandas as pd"
   ]
  },
  {
   "cell_type": "code",
   "execution_count": 67,
   "metadata": {},
   "outputs": [],
   "source": [
    "export = '70836'"
   ]
  },
  {
   "cell_type": "markdown",
   "metadata": {},
   "source": [
    "### Import roles from table 2"
   ]
  },
  {
   "cell_type": "code",
   "execution_count": 68,
   "metadata": {},
   "outputs": [],
   "source": [
    "roles = pd.read_csv(\n",
    "    f'export_{export}/export_{export}_2.csv',\n",
    "    skiprows=1,\n",
    "    usecols=['CrashId', 'Person Type Text Format']\n",
    ")\n",
    "\n",
    "roles = roles.groupby(['CrashId'])['Person Type Text Format'].unique()"
   ]
  },
  {
   "cell_type": "markdown",
   "metadata": {},
   "source": [
    "### Import crashes from table 0"
   ]
  },
  {
   "cell_type": "code",
   "execution_count": 69,
   "metadata": {},
   "outputs": [],
   "source": [
    "crashes = pd.read_csv(\n",
    "    f'export_{export}/export_{export}_0.csv',\n",
    "    skiprows=1,\n",
    "    usecols=['CrashId', 'Latitude', 'Longitude', 'Date Of Crash', 'Time of Crash', 'Crash Severity', 'Route Class']\n",
    ")"
   ]
  },
  {
   "cell_type": "markdown",
   "metadata": {},
   "source": [
    "### Merge data and save to .json"
   ]
  },
  {
   "cell_type": "code",
   "execution_count": 32,
   "metadata": {},
   "outputs": [],
   "source": [
    "crashes.columns = ['id', 'x', 'y', 'd', 't', 's', 'r']\n",
    "\n",
    "crashes.d = crashes.d.apply(lambda x: int(pd.to_datetime(x).timestamp() / 100))\n",
    "crashes.t = crashes.t.apply(lambda x: x[:-3])\n",
    "\n",
    "crashes['p'] = crashes.id.apply(lambda x: 1 if x in roles and 'Pedestrian' in roles[x] else 0)\n",
    "crashes['c'] = crashes.id.apply(lambda x: 1 if x in roles and 'Bicyclist' in roles[x] else 0)"
   ]
  },
  {
   "cell_type": "code",
   "execution_count": 33,
   "metadata": {},
   "outputs": [],
   "source": [
    "crashes.to_json('data/crashes.json', orient='records', double_precision=5)"
   ]
  },
  {
   "cell_type": "code",
   "execution_count": 88,
   "metadata": {},
   "outputs": [
    {
     "data": {
      "text/html": [
       "<div>\n",
       "<style scoped>\n",
       "    .dataframe tbody tr th:only-of-type {\n",
       "        vertical-align: middle;\n",
       "    }\n",
       "\n",
       "    .dataframe tbody tr th {\n",
       "        vertical-align: top;\n",
       "    }\n",
       "\n",
       "    .dataframe thead th {\n",
       "        text-align: right;\n",
       "    }\n",
       "</style>\n",
       "<table border=\"1\" class=\"dataframe\">\n",
       "  <thead>\n",
       "    <tr style=\"text-align: right;\">\n",
       "      <th></th>\n",
       "      <th>CrashId</th>\n",
       "      <th>Latitude</th>\n",
       "      <th>Longitude</th>\n",
       "      <th>Date Of Crash</th>\n",
       "      <th>Time of Crash</th>\n",
       "      <th>Crash Severity</th>\n",
       "      <th>Route Class</th>\n",
       "    </tr>\n",
       "  </thead>\n",
       "  <tbody>\n",
       "    <tr>\n",
       "      <th>35595</th>\n",
       "      <td>743727</td>\n",
       "      <td>41.761163</td>\n",
       "      <td>-72.675626</td>\n",
       "      <td>2020-01-22</td>\n",
       "      <td>10:00:00</td>\n",
       "      <td>O</td>\n",
       "      <td>0</td>\n",
       "    </tr>\n",
       "  </tbody>\n",
       "</table>\n",
       "</div>"
      ],
      "text/plain": [
       "       CrashId   Latitude  Longitude Date Of Crash Time of Crash  \\\n",
       "35595   743727  41.761163 -72.675626    2020-01-22      10:00:00   \n",
       "\n",
       "      Crash Severity  Route Class  \n",
       "35595              O            0  "
      ]
     },
     "execution_count": 88,
     "metadata": {},
     "output_type": "execute_result"
    }
   ],
   "source": [
    "crashes[crashes.CrashId == 743727]"
   ]
  },
  {
   "cell_type": "code",
   "execution_count": 89,
   "metadata": {},
   "outputs": [
    {
     "data": {
      "text/plain": [
       "4    24613\n",
       "1     8680\n",
       "3     2086\n",
       "2     1899\n",
       "0      888\n",
       "Name: Route Class, dtype: int64"
      ]
     },
     "execution_count": 89,
     "metadata": {},
     "output_type": "execute_result"
    }
   ],
   "source": [
    "crashes['Route Class'].value_counts()"
   ]
  },
  {
   "cell_type": "code",
   "execution_count": null,
   "metadata": {},
   "outputs": [],
   "source": []
  }
 ],
 "metadata": {
  "kernelspec": {
   "display_name": "Python 3",
   "language": "python",
   "name": "python3"
  },
  "language_info": {
   "codemirror_mode": {
    "name": "ipython",
    "version": 3
   },
   "file_extension": ".py",
   "mimetype": "text/x-python",
   "name": "python",
   "nbconvert_exporter": "python",
   "pygments_lexer": "ipython3",
   "version": "3.7.3"
  }
 },
 "nbformat": 4,
 "nbformat_minor": 4
}
