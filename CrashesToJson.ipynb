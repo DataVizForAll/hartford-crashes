{
 "cells": [
  {
   "cell_type": "markdown",
   "metadata": {},
   "source": [
    "# Crashes to JSON\n",
    "\n",
    "Use `Data Query Tool` to create a new export from UCONN Crashes (Town=Hartford, last five years): https://www.ctcrash.uconn.edu/QueryTool2.action\n",
    "\n",
    "This notebook combines data from two tables (0 and 2) into a small JSON file, which is an array of the following objects:\n",
    "```\n",
    "{\n",
    "    \"x\":41.73936,\n",
    "    \"y\":-72.66404,\n",
    "    \"d\":1593820800,\n",
    "    \"p\":0,\n",
    "    \"c\":0\n",
    "}\n",
    "```\n",
    "\n",
    "`d` is timestamp, `p` is a flag for pedestrians (1=true, 0=false), `c` is a flag for cyclists."
   ]
  },
  {
   "cell_type": "code",
   "execution_count": 7,
   "metadata": {},
   "outputs": [],
   "source": [
    "import pandas as pd"
   ]
  },
  {
   "cell_type": "code",
   "execution_count": 8,
   "metadata": {},
   "outputs": [],
   "source": [
    "export = '70836'"
   ]
  },
  {
   "cell_type": "markdown",
   "metadata": {},
   "source": [
    "### Import roles from table 2"
   ]
  },
  {
   "cell_type": "code",
   "execution_count": 9,
   "metadata": {},
   "outputs": [],
   "source": [
    "roles = pd.read_csv(\n",
    "    f'export_{export}/export_{export}_2.csv',\n",
    "    skiprows=1,\n",
    "    usecols=['CrashId', 'Person Type Text Format']\n",
    ")\n",
    "\n",
    "roles = roles.groupby(['CrashId'])['Person Type Text Format'].unique()"
   ]
  },
  {
   "cell_type": "markdown",
   "metadata": {},
   "source": [
    "### Import crashes from table 0"
   ]
  },
  {
   "cell_type": "code",
   "execution_count": 10,
   "metadata": {},
   "outputs": [],
   "source": [
    "crashes = pd.read_csv(\n",
    "    f'export_{export}/export_{export}_0.csv',\n",
    "    skiprows=1,\n",
    "    usecols=['CrashId', 'Latitude', 'Longitude', 'Date Of Crash']\n",
    ")"
   ]
  },
  {
   "cell_type": "markdown",
   "metadata": {},
   "source": [
    "### Merge data and save to .json"
   ]
  },
  {
   "cell_type": "code",
   "execution_count": 11,
   "metadata": {},
   "outputs": [],
   "source": [
    "crashes.columns = ['id', 'x', 'y', 'd']\n",
    "\n",
    "crashes.d = crashes.d.apply(lambda x: int(pd.to_datetime(x).timestamp()))\n",
    "\n",
    "crashes['p'] = crashes.id.apply(lambda x: 1 if x in roles and 'Pedestrian' in roles[x] else 0)\n",
    "crashes['c'] = crashes.id.apply(lambda x: 1 if x in roles and 'Bicyclist' in roles[x] else 0)"
   ]
  },
  {
   "cell_type": "code",
   "execution_count": null,
   "metadata": {},
   "outputs": [],
   "source": []
  },
  {
   "cell_type": "code",
   "execution_count": 12,
   "metadata": {},
   "outputs": [],
   "source": [
    "crashes.loc[:, 'x': 'c'].to_json('data/crashes.json', orient='records', double_precision=5)"
   ]
  },
  {
   "cell_type": "code",
   "execution_count": null,
   "metadata": {},
   "outputs": [],
   "source": []
  }
 ],
 "metadata": {
  "kernelspec": {
   "display_name": "Python 3",
   "language": "python",
   "name": "python3"
  },
  "language_info": {
   "codemirror_mode": {
    "name": "ipython",
    "version": 3
   },
   "file_extension": ".py",
   "mimetype": "text/x-python",
   "name": "python",
   "nbconvert_exporter": "python",
   "pygments_lexer": "ipython3",
   "version": "3.7.3"
  }
 },
 "nbformat": 4,
 "nbformat_minor": 4
}
