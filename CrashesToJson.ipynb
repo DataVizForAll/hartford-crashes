{
 "cells": [
  {
   "cell_type": "markdown",
   "metadata": {},
   "source": [
    "# Crashes to JSON\n",
    "\n",
    "Use `Data Query Tool` to create a new export from UCONN Crashes (Town=Hartford, last five years): https://www.ctcrash.uconn.edu/QueryTool2.action\n",
    "\n",
    "This notebook combines data from two tables (0 and 2) into a small JSON file, which is an array of the following objects:\n",
    "```\n",
    "{\n",
    "    \"x\":41.73936,\n",
    "    \"y\":-72.66404,\n",
    "    \"d\":1593820800,\n",
    "    \"p\":0,\n",
    "    \"c\":0\n",
    "}\n",
    "```\n",
    "\n",
    "* `d` is timestamp that needs to be multiplied by `100,000` for a proper JS timestamp\n",
    "* `p` is a flag for pedestrians (1=true, 0=false)\n",
    "* `c` is a flag for cyclists\n",
    "* `id` is crash ID\n",
    "* `r` is route class (1-Interstate, 2-USRoute, 3-State, 4-Local)\n",
    "* `s` is crash severity (O for no injuries, A for any injury, and K for fatal crash)"
   ]
  },
  {
   "cell_type": "code",
   "execution_count": 28,
   "metadata": {},
   "outputs": [],
   "source": [
    "import pandas as pd"
   ]
  },
  {
   "cell_type": "code",
   "execution_count": 29,
   "metadata": {},
   "outputs": [],
   "source": [
    "export = '70836'"
   ]
  },
  {
   "cell_type": "markdown",
   "metadata": {},
   "source": [
    "### Import roles from table 2"
   ]
  },
  {
   "cell_type": "code",
   "execution_count": 30,
   "metadata": {},
   "outputs": [],
   "source": [
    "roles = pd.read_csv(\n",
    "    f'export_{export}/export_{export}_2.csv',\n",
    "    skiprows=1,\n",
    "    usecols=['CrashId', 'Person Type Text Format']\n",
    ")\n",
    "\n",
    "roles = roles.groupby(['CrashId'])['Person Type Text Format'].unique()"
   ]
  },
  {
   "cell_type": "markdown",
   "metadata": {},
   "source": [
    "### Import crashes from table 0"
   ]
  },
  {
   "cell_type": "code",
   "execution_count": 31,
   "metadata": {},
   "outputs": [],
   "source": [
    "crashes = pd.read_csv(\n",
    "    f'export_{export}/export_{export}_0.csv',\n",
    "    skiprows=1,\n",
    "    usecols=['CrashId', 'Latitude', 'Longitude', 'Date Of Crash', 'Time of Crash', 'Crash Severity', 'Route Class']\n",
    ")"
   ]
  },
  {
   "cell_type": "code",
   "execution_count": null,
   "metadata": {},
   "outputs": [],
   "source": []
  },
  {
   "cell_type": "markdown",
   "metadata": {},
   "source": [
    "### Merge data and save to .json"
   ]
  },
  {
   "cell_type": "code",
   "execution_count": 32,
   "metadata": {},
   "outputs": [],
   "source": [
    "crashes.columns = ['id', 'x', 'y', 'd', 't', 's', 'r']\n",
    "\n",
    "crashes.d = crashes.d.apply(lambda x: int(pd.to_datetime(x).timestamp() / 100))\n",
    "crashes.t = crashes.t.apply(lambda x: x[:-3])\n",
    "\n",
    "crashes['p'] = crashes.id.apply(lambda x: 1 if x in roles and 'Pedestrian' in roles[x] else 0)\n",
    "crashes['c'] = crashes.id.apply(lambda x: 1 if x in roles and 'Bicyclist' in roles[x] else 0)"
   ]
  },
  {
   "cell_type": "code",
   "execution_count": 33,
   "metadata": {},
   "outputs": [],
   "source": [
    "crashes.to_json('data/crashes.json', orient='records', double_precision=5)"
   ]
  },
  {
   "cell_type": "code",
   "execution_count": 49,
   "metadata": {},
   "outputs": [
    {
     "data": {
      "text/plain": [
       "1420070400.0"
      ]
     },
     "execution_count": 49,
     "metadata": {},
     "output_type": "execute_result"
    }
   ],
   "source": [
    "pd.to_datetime('2015-01-01').timestamp()\n",
    "#pd.to_datetime('2020-07-31').timestamp()"
   ]
  },
  {
   "cell_type": "code",
   "execution_count": 50,
   "metadata": {},
   "outputs": [
    {
     "data": {
      "text/html": [
       "<div>\n",
       "<style scoped>\n",
       "    .dataframe tbody tr th:only-of-type {\n",
       "        vertical-align: middle;\n",
       "    }\n",
       "\n",
       "    .dataframe tbody tr th {\n",
       "        vertical-align: top;\n",
       "    }\n",
       "\n",
       "    .dataframe thead th {\n",
       "        text-align: right;\n",
       "    }\n",
       "</style>\n",
       "<table border=\"1\" class=\"dataframe\">\n",
       "  <thead>\n",
       "    <tr style=\"text-align: right;\">\n",
       "      <th></th>\n",
       "      <th>id</th>\n",
       "      <th>x</th>\n",
       "      <th>y</th>\n",
       "      <th>d</th>\n",
       "      <th>t</th>\n",
       "      <th>s</th>\n",
       "      <th>r</th>\n",
       "      <th>p</th>\n",
       "      <th>c</th>\n",
       "    </tr>\n",
       "  </thead>\n",
       "  <tbody>\n",
       "    <tr>\n",
       "      <th>0</th>\n",
       "      <td>26165</td>\n",
       "      <td>41.736755</td>\n",
       "      <td>-72.706648</td>\n",
       "      <td>14202432</td>\n",
       "      <td>15:11</td>\n",
       "      <td>O</td>\n",
       "      <td>4</td>\n",
       "      <td>0</td>\n",
       "      <td>0</td>\n",
       "    </tr>\n",
       "    <tr>\n",
       "      <th>1</th>\n",
       "      <td>26166</td>\n",
       "      <td>41.784846</td>\n",
       "      <td>-72.708589</td>\n",
       "      <td>14203296</td>\n",
       "      <td>14:27</td>\n",
       "      <td>O</td>\n",
       "      <td>4</td>\n",
       "      <td>0</td>\n",
       "      <td>0</td>\n",
       "    </tr>\n",
       "    <tr>\n",
       "      <th>2</th>\n",
       "      <td>26168</td>\n",
       "      <td>41.793270</td>\n",
       "      <td>-72.694880</td>\n",
       "      <td>14217984</td>\n",
       "      <td>02:30</td>\n",
       "      <td>O</td>\n",
       "      <td>4</td>\n",
       "      <td>0</td>\n",
       "      <td>0</td>\n",
       "    </tr>\n",
       "    <tr>\n",
       "      <th>3</th>\n",
       "      <td>26172</td>\n",
       "      <td>41.752365</td>\n",
       "      <td>-72.685040</td>\n",
       "      <td>14201568</td>\n",
       "      <td>08:23</td>\n",
       "      <td>O</td>\n",
       "      <td>4</td>\n",
       "      <td>0</td>\n",
       "      <td>0</td>\n",
       "    </tr>\n",
       "    <tr>\n",
       "      <th>4</th>\n",
       "      <td>26173</td>\n",
       "      <td>41.774810</td>\n",
       "      <td>-72.693833</td>\n",
       "      <td>14209344</td>\n",
       "      <td>18:57</td>\n",
       "      <td>A</td>\n",
       "      <td>4</td>\n",
       "      <td>1</td>\n",
       "      <td>0</td>\n",
       "    </tr>\n",
       "    <tr>\n",
       "      <th>...</th>\n",
       "      <td>...</td>\n",
       "      <td>...</td>\n",
       "      <td>...</td>\n",
       "      <td>...</td>\n",
       "      <td>...</td>\n",
       "      <td>...</td>\n",
       "      <td>...</td>\n",
       "      <td>...</td>\n",
       "      <td>...</td>\n",
       "    </tr>\n",
       "    <tr>\n",
       "      <th>38161</th>\n",
       "      <td>788385</td>\n",
       "      <td>41.756281</td>\n",
       "      <td>-72.682520</td>\n",
       "      <td>15938208</td>\n",
       "      <td>20:00</td>\n",
       "      <td>A</td>\n",
       "      <td>4</td>\n",
       "      <td>0</td>\n",
       "      <td>0</td>\n",
       "    </tr>\n",
       "    <tr>\n",
       "      <th>38162</th>\n",
       "      <td>788386</td>\n",
       "      <td>41.799010</td>\n",
       "      <td>-72.662266</td>\n",
       "      <td>15938208</td>\n",
       "      <td>20:52</td>\n",
       "      <td>A</td>\n",
       "      <td>4</td>\n",
       "      <td>0</td>\n",
       "      <td>0</td>\n",
       "    </tr>\n",
       "    <tr>\n",
       "      <th>38163</th>\n",
       "      <td>788387</td>\n",
       "      <td>41.760758</td>\n",
       "      <td>-72.706405</td>\n",
       "      <td>15938208</td>\n",
       "      <td>21:49</td>\n",
       "      <td>O</td>\n",
       "      <td>4</td>\n",
       "      <td>0</td>\n",
       "      <td>0</td>\n",
       "    </tr>\n",
       "    <tr>\n",
       "      <th>38164</th>\n",
       "      <td>788428</td>\n",
       "      <td>41.771024</td>\n",
       "      <td>-72.670760</td>\n",
       "      <td>14210208</td>\n",
       "      <td>08:59</td>\n",
       "      <td>O</td>\n",
       "      <td>1</td>\n",
       "      <td>0</td>\n",
       "      <td>0</td>\n",
       "    </tr>\n",
       "    <tr>\n",
       "      <th>38165</th>\n",
       "      <td>788443</td>\n",
       "      <td>41.739360</td>\n",
       "      <td>-72.664041</td>\n",
       "      <td>15938208</td>\n",
       "      <td>03:37</td>\n",
       "      <td>O</td>\n",
       "      <td>1</td>\n",
       "      <td>0</td>\n",
       "      <td>0</td>\n",
       "    </tr>\n",
       "  </tbody>\n",
       "</table>\n",
       "<p>38164 rows × 9 columns</p>\n",
       "</div>"
      ],
      "text/plain": [
       "           id          x          y         d      t  s  r  p  c\n",
       "0       26165  41.736755 -72.706648  14202432  15:11  O  4  0  0\n",
       "1       26166  41.784846 -72.708589  14203296  14:27  O  4  0  0\n",
       "2       26168  41.793270 -72.694880  14217984  02:30  O  4  0  0\n",
       "3       26172  41.752365 -72.685040  14201568  08:23  O  4  0  0\n",
       "4       26173  41.774810 -72.693833  14209344  18:57  A  4  1  0\n",
       "...       ...        ...        ...       ...    ... .. .. .. ..\n",
       "38161  788385  41.756281 -72.682520  15938208  20:00  A  4  0  0\n",
       "38162  788386  41.799010 -72.662266  15938208  20:52  A  4  0  0\n",
       "38163  788387  41.760758 -72.706405  15938208  21:49  O  4  0  0\n",
       "38164  788428  41.771024 -72.670760  14210208  08:59  O  1  0  0\n",
       "38165  788443  41.739360 -72.664041  15938208  03:37  O  1  0  0\n",
       "\n",
       "[38164 rows x 9 columns]"
      ]
     },
     "execution_count": 50,
     "metadata": {},
     "output_type": "execute_result"
    }
   ],
   "source": [
    "crashes[ (crashes.d >= 14200704) & (crashes.d <= 15961536) ]"
   ]
  },
  {
   "cell_type": "code",
   "execution_count": null,
   "metadata": {},
   "outputs": [],
   "source": []
  }
 ],
 "metadata": {
  "kernelspec": {
   "display_name": "Python 3",
   "language": "python",
   "name": "python3"
  },
  "language_info": {
   "codemirror_mode": {
    "name": "ipython",
    "version": 3
   },
   "file_extension": ".py",
   "mimetype": "text/x-python",
   "name": "python",
   "nbconvert_exporter": "python",
   "pygments_lexer": "ipython3",
   "version": "3.7.3"
  }
 },
 "nbformat": 4,
 "nbformat_minor": 4
}
